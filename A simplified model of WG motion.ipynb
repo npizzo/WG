{
 "cells": [
  {
   "cell_type": "markdown",
   "metadata": {},
   "source": [
    "A simplified model of WG motion\n",
    "------\n",
    "The goal of these notes is to test the fidelity of a simplified model of WG motion. The bones of the argument are that we will model the float and sub as fluid particles on seperate material contours, coupled by a spring. We will assume the motion of the float is linearly damped, while the motion of the sub is forced. \n",
    "\n",
    "Nick Pizzo, June 20, 2021"
   ]
  },
  {
   "cell_type": "markdown",
   "metadata": {},
   "source": [
    "The model\n",
    "---------\n",
    "The theoretical model is based on the motion of a bead on a wire. As will be shown, there is a direct analog of the motion of a bead on a wire and that of a particle on a material contour in a fluid (with the resulting equation known as John's equation). In fact, they obey the same equations of motion. Then, if we are prescribing the motion of these material contours (ie the wire), we can compute the resulting behavior of the beads. \n",
    "\n",
    "The theory can handle fully nonlinear motion, but not wave breaking. It can also be extended to three dimensions. "
   ]
  },
  {
   "cell_type": "markdown",
   "metadata": {},
   "source": [
    "Defintions\n",
    "---------\n",
    "We have two particles, one located at position $(x_1,y_1)$ and the other at $(x_2,y_2)$. We assume the acceleration due to gravity is $g$. The damping of the float is given by $\\nu$, while the forcing coefficient for the sub is denoted by $\\alpha$. We denote the spring constant as $\\kappa$ and assume it has equilibrium length $d$. We take the masses of the particles to be unity. "
   ]
  },
  {
   "cell_type": "markdown",
   "metadata": {},
   "source": [
    "Model equations\n",
    "-------\n",
    "The kinetic energy of the system is given by\n",
    "$$2T = \\dot{x}_1^2+\\dot{x}_2^2+\\dot{y}_1^2+\\dot{y}_2^2$$. \n",
    "\n",
    "As the beads are confined to the wire, we can write the vertical component as a $graph$ of the horizontal component, i.e. $y_1 = \\eta(x_1(t),t)$ and $y_2 = h(x_2(t),t)$ so that \n",
    "$$ \\dot{y}_1 = \\eta_t + \\dot{x}_1\\eta_x,$$\n",
    "$$ \\dot{y}_2 = h_t + \\dot{x}_2h_x.$$\n",
    "\n",
    "The kinetic energy becomes \n",
    "$$ 2T = \\dot{x}_1^2(1+\\eta_x^2)+\\dot{x}_2^2(1+h_x^2) +\\eta_t^2+h_t^2+2(\\dot{x}_1\\eta_t\\eta_x+\\dot{x}_2h_th_x).$$\n",
    "\n",
    "Next, the potential energy is given by \n",
    "$$V = g(y_1+y_2)+\\frac{\\kappa}{2}(d-l)^2,$$\n",
    "where\n",
    "$$ l^2 =(x_1-x_2)^2+(y_1-y_2)^2.$$\n",
    "\n",
    "The Lagrangian is given by $L=T-V$, and the equations of motion following from the Euler-Lagrange equations, which here will be\n",
    "$$\\frac{d}{dt}\\left(\\frac{\\partial L}{\\partial \\dot{x}_i}\\right) -\\frac{\\partial L}{\\partial x_i} = Q_i,$$\n",
    "for $i=(1,2)$ and $Q_i$ the source and sink terms - which will damp/force the float/sub, respectively. \n",
    "\n",
    "Now, it is worth noting that this formulation is able to handle fully nonlinear water waves. However, we need not start with this formulation. Instead, we assume that the material contours have small amplitude. That is, we let\n",
    "$$ \\eta = \\epsilon \\eta'; \\quad h = \\epsilon h',$$\n",
    "where we'll drop the prime from hereinafter for clarity of presentation. Note, the behavior of the particles is still nonlinear - but the waves themselves are linear. It could be a useful excercise to use this approach to estimate how much of the variance of the platform motion can be driven by nonlinear waves. \n",
    "\n",
    "The Euler-Lagrange equations applied to our Lagrangian, expanded to $O(\\epsilon)$ then imply\n",
    "$$\\ddot{x}_1+g\\epsilon \\eta_x +\\kappa(x_1-x_2-d) = Q_1,$$\n",
    "$$\\ddot{x}_2+g\\epsilon h_x -\\kappa(x_1-x_2-d) = Q_2.$$\n",
    "\n",
    "Again, the motion of the particles is nonlinear in this formulation. We could do some asymptotics and solve for the particle motion to some prescribed order. However, we instead examine this numerically as it allows for a simple examination of parameter space. \n",
    "\n",
    "Next, we clarify the source terms $Q_i$. First, we expect there to be damping from the float. We take the simplest approach and define\n",
    "$Q_1 = \\nu \\dot{x}_1,$\n",
    "which implies simple linear damping (cf a classical harmonic oscillator). Next, we assume that the sub is accelerated by vertical dispacements, which should be proportional to the amplitude (we could also make this proportional to the slope - discuss!) of the displacements. This implies \n",
    "$Q_2 = \\beta |x_2|.$\n",
    "\n",
    "Let's explicitly write out the equations of motion: \n",
    "$$\\boxed{\\ddot{x}_1+g\\epsilon \\eta_x +\\kappa(x_1-x_2-d) = \\nu \\dot{x}_1,\\\\\n",
    "\\ddot{x}_2+g\\epsilon h_x -\\kappa(x_1-x_2-d) = \\beta |x_2|.}$$\n"
   ]
  },
  {
   "cell_type": "markdown",
   "metadata": {},
   "source": [
    "Numerics\n",
    "----\n",
    "We now code up solutions to our governing equations in Matlab"
   ]
  },
  {
   "cell_type": "code",
   "execution_count": 118,
   "metadata": {},
   "outputs": [
    {
     "data": {
      "image/png": "[encoded data removed]"
     },
     "metadata": {},
     "output_type": "display_data"
    }
   ],
   "source": [
    "%% Problem set up\n",
    "imatlab_export_fig('print-png')\n",
    "dx = 1/10; \n",
    "x = 0 : dx : 2 * pi; \n",
    "a = 1/3; % amplitude of eta\n",
    "k = 1; % wavelength \n",
    "eta = a * cos( k * x );\n",
    "d = 1; % initial distance between sub/float. \n",
    "b = a * exp( - k * d ); % amplitude of h - this depends on how we choose d.\n",
    "h = b * cos( k * x ); \n",
    "% plot this\n",
    "plot(x, eta, '--k')\n",
    "hold on\n",
    "plot(x, h-d, '--r')\n",
    "hold on\n",
    "plot([x(20) x(30)],[eta(20) h(30)-d], 'b', 'linewidth', 2 )\n",
    "hold on\n",
    "plot(x(20), eta(20),'ko', 'markerfacecolor','k')\n",
    "hold on\n",
    "plot(x(30), h(30)-d,'ro', 'markerfacecolor','r')\n",
    "ylim([-2 1/2])\n",
    "set(gcf, 'Position',  [100, 100, 200, 100])\n",
    "set(gcf,'color','w')"
   ]
  },
  {
   "cell_type": "code",
   "execution_count": 119,
   "metadata": {},
   "outputs": [
    {
     "name": "stderr",
     "output_type": "stream",
     "text": [
      "Error: Function definition not supported in this context. Create functions in code file.\n",
      "\n"
     ]
    }
   ],
   "source": [
    "function dydt = WGM(t,y,g,nu,beta,kappa,k,omega,a,d,z)\n",
    "etax = - a*k*sin(k * y(1)-omega * t);\n",
    "hx = - a*k*exp(-k * z)*sin(k * y(3) - omega * t);\n",
    "dydt(1) = y(2);\n",
    "dydt(2) = - g * etax - kappa * (y(1)-y(3)-d) + nu * y(2);\n",
    "dydt(3) = y(4); \n",
    "dydt(4) = - g * hx + kappa * (y(1)-y(3)-d) + beta * abs(y(3)); \n",
    "dydt=dydt';"
   ]
  },
  {
   "cell_type": "markdown",
   "metadata": {},
   "source": [
    "Note: I created this function outside of the notebook. I'm not sure if in line function defintions are supported in Jupyter? "
   ]
  },
  {
   "cell_type": "code",
   "execution_count": 143,
   "metadata": {},
   "outputs": [],
   "source": [
    "%% solve DE\n",
    "g = 9.81; \n",
    "nu = 0*1e-3;\n",
    "beta = 0*1e-3;\n",
    "kappa = 0*1e1;\n",
    "k = 1;\n",
    "a = 1/30; \n",
    "omega = sqrt(g * k);\n",
    "z = 2; \n",
    "d = z;\n",
    "tspan = [0 20];\n",
    "IC = [0; 0; 0; 0*exp(-z*k)]; %these need to be chosen to satisfy the e.o.m. for water waves\n",
    "[t,y] = ode45(@(t,y) WGM(t,y,g,nu,beta,kappa,k,omega,a,d,z),tspan,IC);"
   ]
  },
  {
   "cell_type": "code",
   "execution_count": 144,
   "metadata": {},
   "outputs": [
    {
     "data": {
      "image/png": "[encoded data removed]"
     },
     "metadata": {},
     "output_type": "display_data"
    }
   ],
   "source": [
    "%% visualize results\n",
    "% first look at horizontal position versus time\n",
    "plot(t,y(:,1),'.')\n",
    "hold on\n",
    "plot(t,y(:,3),'k.')\n",
    "xlabel('t')\n",
    "ylabel('x')\n",
    "set(gcf, 'Position',  [100, 100, 200, 100])\n",
    "set(gcf,'color','w')"
   ]
  },
  {
   "cell_type": "code",
   "execution_count": 142,
   "metadata": {},
   "outputs": [
    {
     "data": {
      "image/png": "[encoded data removed]"
     },
     "metadata": {},
     "output_type": "display_data"
    }
   ],
   "source": [
    "%% look at trajectories \n",
    "y1 = a * cos(k * y(:,1) - omega * t);\n",
    "y2 = a * exp(- z * k) * cos(k * y(:,3) - omega * t);\n",
    "subplot(2,1,1)\n",
    "plot(y(:,1),y1,'k')\n",
    "hold on\n",
    "plot(-a*sin(-omega*t),a*cos(-omega*t),'--')\n",
    "subplot(2,1,2)\n",
    "plot(y(:,1),-z+y2,'r')\n",
    "xlabel('x')\n",
    "ylabel('y')\n",
    "set(gcf, 'Position',  [100, 100, 200, 100])\n",
    "set(gcf,'color','w')"
   ]
  },
  {
   "cell_type": "markdown",
   "metadata": {},
   "source": [
    "Connection to surface waves\n",
    "----\n",
    "How is the model for a bead on a wire related to particle motion in the ocean? \n",
    "\n",
    "Following John (1953), we know that the stress (ie pressure for irrotational flow) must act normally for the flow the remain irrotational at a material contour. This implies that gradients to the material contours are parallel to gradients of the pressure, i.e. \n",
    "$$\\nabla(y-\\eta) \\times \\nabla p =0$$. Then, from the Euler equations we can solve for the pressure and put this into this relationship to find\n",
    "$$\\ddot{x}+\\eta_x(g+\\ddot{y}) = 0.$$\n",
    "As $\\dot{y}=\\eta_t+\\dot{x}\\eta_x$, we can solve this equation in terms of $x$ only, finding\n",
    "$$\\ddot{x}(1+\\eta_x^2)+2\\eta_x\\eta_{xt}\\dot{x}+\\eta_x\\eta_{xx}\\dot{x}^2+\\eta_x(g+\\eta_{tt})=0,$$\n",
    "which is exactly what may be found above for the motion of the bead on the wire! \n",
    "\n",
    "John derived this for the free surface but this should hold for any material contour of the flow. "
   ]
  },
  {
   "cell_type": "code",
   "execution_count": null,
   "metadata": {},
   "outputs": [],
   "source": []
  }
 ],
 "metadata": {
  "kernelspec": {
   "display_name": "MATLAB",
   "language": "matlab",
   "name": "imatlab"
  },
  "language_info": {
   "codemirror_mode": "octave",
   "file_extension": ".m",
   "mimetype": "text/x-matlab",
   "name": "matlab",
   "nbconvert_exporter": "imatlab._exporter.MatlabExporter",
   "pygments_lexer": "matlab",
   "version": "9.9.0.1495850 (R2020b) Update 1"
  }
 },
 "nbformat": 4,
 "nbformat_minor": 4
}
