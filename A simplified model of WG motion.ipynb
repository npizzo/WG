{
 "cells": [
  {
   "cell_type": "markdown",
   "metadata": {},
   "source": [
    "A simplified model of WG motion\n",
    "------\n",
    "The goal of these notes is to test the fidelity of a simplified model of WG motion. The bones of the argument are that we can model the float and sub as beads on seperate wires, coupled by a spring. We will assume the motion of the float is linearly damped, while the motion of the sub is forced. \n",
    "\n",
    "Nick Pizzo, June 20, 2021"
   ]
  },
  {
   "cell_type": "markdown",
   "metadata": {},
   "source": [
    "The model\n",
    "---------\n",
    "The theoretical model is based on the motion of a bead on a wire. As will be shown, there is a direct analog of the motion of a bead on a wire and that of a particle on a material contour in a fluid (with the resulting equation known as John's equation). In fact, they obey the same equations of motion. Then, if we are prescribing the motion of these material contours (ie the wire), we can compute the resulting behavior of the beads. \n",
    "\n",
    "The theory can handle fully nonlinear motion, but not wave breaking. It can also be extended to three dimensions. "
   ]
  },
  {
   "cell_type": "markdown",
   "metadata": {},
   "source": [
    "Defintions\n",
    "---------\n",
    "We have two particles, one located at position $(x_1,y_1)$ and the other at $(x_2,y_2)$. We assume the acceleration due to gravity is $g$. The damping of the float is given by $\\nu$, while the forcing coefficient for the sub is denoted by $\\alpha$. We denote the spring constant as $k$ and assume it has equilibrium length $d$. We take the masses of the particles to be unity. "
   ]
  },
  {
   "cell_type": "markdown",
   "metadata": {},
   "source": [
    "Model equations\n",
    "-------\n",
    "The kinetic energy of the system is given by\n",
    "$$2T = \\dot{x}_1^2+\\dot{x}_2^2+\\dot{y}_1^2+\\dot{y}_2^2$$. \n",
    "\n",
    "As the beads are confined to the wire, we can write the vertical component as a $graph$ of the horizontal component, i.e. $y_1 = \\eta(x_1(t),t)$ and $y_2 = h(x_2(t),t)$ so that \n",
    "$$ \\dot{y}_1 = \\eta_t + \\dot{x}_1\\eta_x,$$\n",
    "$$ \\dot{y}_2 = h_t + \\dot{x}_2h_x.$$\n",
    "\n",
    "The kinetic energy becomes \n",
    "$$ 2T = \\dot{x}_1^2(1+\\eta_x^2)+\\dot{x}_2^2(1+h_x^2) +\\eta_t^2+h_t^2+2(\\dot{x}_1\\eta_t\\eta_x+\\dot{x}_2h_th_x).$$\n",
    "\n",
    "Next, the potential energy is given by \n",
    "$$V = g(y_1+y_2)+\\frac{k}{2}(d-l)^2,$$\n",
    "where\n",
    "$$ l^2 =(x_1-x_2)^2+(y_1-y_2)^2.$$\n",
    "\n",
    "The Lagrangian is given by $L=T-V$, and the equations of motion following from the Euler-Lagrange equations, which here will be\n",
    "$$\\frac{d}{dt}\\left(\\frac{\\partial L}{\\partial \\dot{x}_i}\\right) -\\frac{\\partial L}{\\partial x_i} = Q_i,$$\n",
    "for $i=(1,2)$ and $Q_i$ the source and sink terms - which will damp/force the float/sub, respectively. \n",
    "\n",
    "We now compute the terms coming from the Lagrangian. "
   ]
  },
  {
   "cell_type": "code",
   "execution_count": 23,
   "metadata": {},
   "outputs": [
    {
     "data": {
      "image/png": "[encoded data removed]"
     },
     "metadata": {},
     "output_type": "display_data"
    }
   ],
   "source": [
    "%% Problem set up\n",
    "imatlab_export_fig('print-png')\n",
    "dx = 1/10; \n",
    "x = 0 : dx : 2 * pi; \n",
    "a = 1/3; % amplitude of eta\n",
    "k = 1; % wavelength \n",
    "eta = a * cos( k * x );\n",
    "d = 1; % initial distance between sub/float. \n",
    "b = a * exp( - k * d ); % amplitude of h - this depends on how we choose d.\n",
    "h = b * cos( k * x ); \n",
    "% plot this\n",
    "plot(x, eta, '--k')\n",
    "hold on\n",
    "plot(x, h-d, '--r')\n",
    "hold on\n",
    "plot([x(20) x(30)],[eta(20) h(30)-d], 'b', 'linewidth', 2 )\n",
    "hold on\n",
    "plot(x(20), eta(20),'ko', 'markerfacecolor','k')\n",
    "hold on\n",
    "plot(x(30), h(30)-d,'ro', 'markerfacecolor','r')\n",
    "ylim([-2 1/2])\n",
    "set(gcf, 'Position',  [100, 100, 200, 100])\n",
    "set(gcf,'color','w')"
   ]
  },
  {
   "cell_type": "markdown",
   "metadata": {},
   "source": [
    "Connection to surface waves\n",
    "----\n",
    "How is the model for a bead on a wire related to particle motion in the ocean? \n",
    "\n",
    "Following John (1953), we know that the stress (ie pressure for irrotational flow) must act normally for the flow the remain irrotational at a material contour. This implies that gradients to the material contours are parallel to gradients of the pressure, i.e. \n",
    "$$\\nabla(y-\\eta) \\times \\nabla p =0$$. Then, from the Euler equations we can solve for the pressure and put this into this relationship to find\n",
    "$$\\ddot{x}+\\eta_x(g+\\ddot{y}) = 0.$$\n",
    "As $\\dot{y}=\\eta_t+\\dot{x}\\eta_x$, we can solve this equation in terms of $x$ only, finding\n",
    "$$\\ddot{x}(1+\\eta_x^2)+2\\eta_x\\eta_{xt}\\dot{x}+\\eta_x\\eta_{xx}\\dot{x}^2+g\\eta_x+\\eta_{tt}=0,$$\n",
    "which is exactly what was found for the motion of the bead on the wire! "
   ]
  },
  {
   "cell_type": "code",
   "execution_count": null,
   "metadata": {},
   "outputs": [],
   "source": []
  }
 ],
 "metadata": {
  "kernelspec": {
   "display_name": "MATLAB",
   "language": "matlab",
   "name": "imatlab"
  },
  "language_info": {
   "codemirror_mode": "octave",
   "file_extension": ".m",
   "mimetype": "text/x-matlab",
   "name": "matlab",
   "nbconvert_exporter": "imatlab._exporter.MatlabExporter",
   "pygments_lexer": "matlab",
   "version": "9.9.0.1495850 (R2020b) Update 1"
  }
 },
 "nbformat": 4,
 "nbformat_minor": 4
}
