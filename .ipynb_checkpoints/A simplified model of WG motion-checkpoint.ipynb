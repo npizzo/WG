{
 "cells": [
  {
   "cell_type": "markdown",
   "metadata": {},
   "source": [
    "A simplified model of WG motion\n",
    "------\n",
    "The goal of these notes is to test the fidelity of a simplified model of WG motion. The bones of the argument are that we can model the float and sub as beads on seperate wires, coupled by a spring. We will assume the motion of the float is linearly damped, while the motion of the sub is forced. \n",
    "\n",
    "Nick Pizzo, June 20, 2021"
   ]
  },
  {
   "cell_type": "markdown",
   "metadata": {},
   "source": [
    "The model\n",
    "---------\n",
    "The theoretical model is based on the motion of a bead on a wire. As will be shown, there is a direct analog of the motion of a bead on a wire and that of a particle on a material contour in a fluid (with the resulting equation known as John's equation). In fact, they obey the same equations of motion. Then, if we are prescribing the motion of these material contours (ie the wire) then we can compute the resulting behavior of the beads. \n",
    "\n",
    "The theory can handle fully nonlinear motion, but not wave breaking. It can also be extended to three dimensions. "
   ]
  },
  {
   "cell_type": "markdown",
   "metadata": {},
   "source": [
    "Defintions\n",
    "---------\n",
    "We have two particles, one located at position $(x_1,y_1)$ and the other at $(x_2,y_2)$. We assume the acceleration due to gravity is $g$. The damping of the float is given by $\\nu$, while the forcing coefficient for the sub is denoted by $\\alpha$. We denote the spring constant as $k$ and assume it has equilibrium length $d$. We take the masses of the particles to be unity. "
   ]
  },
  {
   "cell_type": "markdown",
   "metadata": {},
   "source": [
    "Model equations\n",
    "-------\n",
    "The kinetic energy of the system is given by\n",
    "$$2T = \\dot{x}_1^2+\\dot{x}_2^2+\\dot{y}_1^2+\\dot{y}_2^2$$. \n",
    "\n",
    "As the beads are confined to the wire, we have $y_1 = \\eta(x_1(t),t)$ and $y_2 = h(x_2(t),t)$ so that \n",
    "$$ \\dot{y}_1 = \\eta_t + \\dot{x}_1\\eta_x,$$\n",
    "$$ \\dot{y}_2 = h_t + \\dot{x}_2h_x.$$\n",
    "\n",
    "The kinetic energy becomes \n",
    "$$ 2T = \\dot{x}_1^2(1+\\eta_x^2)+\\dot{x}_2^2(1+h_x^2) +\\eta_t^2+h_t^2+2(\\dot{x}_1\\eta_t\\eta_x+\\dot{x}_2h_th_x).$$\n",
    "\n",
    "Next, the potential energy is given by \n",
    "$$V = g(y_1+y_2)+\\frac{k}{2}(d-l)^2,$$\n",
    "where\n",
    "$$ l^2 =(x_1-x_2)^2+(y_1-y_2)^2.$$\n",
    "\n",
    "The Lagrangian is given by $L=T-V$, and the equations of motion following from the Euler-Lagrange equations, which here will be\n",
    "$$\\frac{d}{dt}\\left(\\frac{\\partial L}{\\partial \\dot{x}_i}\\right) -\\frac{\\partial L}{\\partial x_i} = Q_i,$$\n",
    "for $i=(1,2)$ and $Q_i$ the source and sink terms - which will damp or force the float/sub, respectively. "
   ]
  },
  {
   "cell_type": "code",
   "execution_count": null,
   "metadata": {},
   "outputs": [],
   "source": []
  }
 ],
 "metadata": {
  "kernelspec": {
   "display_name": "MATLAB",
   "language": "matlab",
   "name": "imatlab"
  },
  "language_info": {
   "codemirror_mode": "octave",
   "file_extension": ".m",
   "mimetype": "text/x-matlab",
   "name": "matlab",
   "nbconvert_exporter": "imatlab._exporter.MatlabExporter",
   "pygments_lexer": "matlab",
   "version": "9.9.0.1495850 (R2020b) Update 1"
  }
 },
 "nbformat": 4,
 "nbformat_minor": 4
}
